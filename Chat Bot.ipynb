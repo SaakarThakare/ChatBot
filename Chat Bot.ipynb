{
 "cells": [
  {
   "cell_type": "markdown",
   "id": "7762baf6",
   "metadata": {},
   "source": [
    "# Response"
   ]
  },
  {
   "cell_type": "code",
   "execution_count": 1,
   "id": "eba75a5f",
   "metadata": {},
   "outputs": [],
   "source": [
    "responses = {\n",
    "    \"hi\": \"Hello! How can I help you?\",\n",
    "    \"hello\": \"Hi there! What can I assist you with?\",\n",
    "    \"how are you\": \"I'm just a computer program, so I don't have feelings, but thanks for asking!\",\n",
    "    \"bye\": \"Goodbye! Have a great day!\",\n",
    "    \"default\": \"I'm sorry, I don't understand. Please try again.\",\n",
    "}"
   ]
  },
  {
   "cell_type": "markdown",
   "id": "6668e90a",
   "metadata": {},
   "source": [
    "# User Input and Response Logic"
   ]
  },
  {
   "cell_type": "code",
   "execution_count": 2,
   "id": "5f041667",
   "metadata": {},
   "outputs": [],
   "source": [
    "def get_response(user_input):\n",
    "    user_input = user_input.lower()\n",
    "    response = responses.get(user_input, responses[\"default\"])\n",
    "    return response"
   ]
  },
  {
   "cell_type": "markdown",
   "id": "efe4b341",
   "metadata": {},
   "source": [
    "# Chat Loop"
   ]
  },
  {
   "cell_type": "code",
   "execution_count": null,
   "id": "76ed118f",
   "metadata": {},
   "outputs": [],
   "source": [
    "while True:\n",
    "    user_input = input(\"You: \")\n",
    "    if user_input.lower() == \"exit\":\n",
    "        print(\"Chatbot: Goodbye!\")\n",
    "        break\n",
    "    response = get_response(user_input)\n",
    "    print(\"Chatbot:\", response)\n"
   ]
  },
  {
   "cell_type": "markdown",
   "id": "33e9402f",
   "metadata": {},
   "source": [
    "# Chatbot Test"
   ]
  },
  {
   "cell_type": "code",
   "execution_count": null,
   "id": "3238ba59",
   "metadata": {},
   "outputs": [],
   "source": [
    "if __name__ == \"__main__\":\n",
    "    print(\"Chatbot: Hello! Type 'exit' to end the conversation.\")\n",
    "    while True:\n",
    "        user_input = input(\"You: \")\n",
    "        if user_input.lower() == \"exit\":\n",
    "            print(\"Chatbot: Goodbye!\")\n",
    "            break\n",
    "        response = get_response(user_input)\n",
    "        print(\"Chatbot:\", response)\n"
   ]
  },
  {
   "cell_type": "markdown",
   "id": "bdac71a1",
   "metadata": {},
   "source": [
    "## ==============================================="
   ]
  },
  {
   "cell_type": "code",
   "execution_count": null,
   "id": "f82716cc",
   "metadata": {},
   "outputs": [],
   "source": [
    "import random\n",
    "\n",
    "responses = {\n",
    "    \"hello\": \"Hello! How can I help you today?\",\n",
    "    \"feelings\": \"Tell me more about your feelings.\",\n",
    "    \"family\": \"How does your family make you feel?\",\n",
    "    \"default\": \"Please continue.\",\n",
    "}\n",
    "\n",
    "def get_response(user_input):\n",
    "    user_input = user_input.lower()\n",
    "    response = responses.get(user_input, responses[\"default\"])\n",
    "    return response\n",
    "\n",
    "print(\"Chatbot: Hello! How can I help you today?\")\n",
    "while True:\n",
    "    user_input = input(\"You: \")\n",
    "    if user_input.lower() == \"exit\":\n",
    "        print(\"Chatbot: Goodbye!\")\n",
    "        break\n",
    "    response = get_response(user_input)\n",
    "    print(\"Chatbot:\", response)\n"
   ]
  },
  {
   "cell_type": "markdown",
   "id": "1e4b2108",
   "metadata": {},
   "source": [
    "# ======================================================="
   ]
  },
  {
   "cell_type": "markdown",
   "id": "cc86ce07",
   "metadata": {},
   "source": [
    "# for maths "
   ]
  },
  {
   "cell_type": "code",
   "execution_count": null,
   "id": "b4911be6",
   "metadata": {},
   "outputs": [],
   "source": [
    "import re\n",
    "\n",
    "def calculate(expression):\n",
    "    try:\n",
    "        result = eval(expression)\n",
    "        return str(result)\n",
    "    except Exception:\n",
    "        return \"Sorry, I couldn't calculate that.\"\n",
    "\n",
    "print(\"Chatbot: I can help you with basic arithmetic. Type 'exit' to end.\")\n",
    "while True:\n",
    "    user_input = input(\"You: \")\n",
    "    if user_input.lower() == \"exit\":\n",
    "        print(\"Chatbot: Goodbye!\")\n",
    "        break\n",
    "    response = calculate(user_input)\n",
    "    print(\"Chatbot:\", response)\n"
   ]
  },
  {
   "cell_type": "markdown",
   "id": "cea8b63e",
   "metadata": {},
   "source": [
    "# Decision-Making Chatbot:"
   ]
  },
  {
   "cell_type": "code",
   "execution_count": null,
   "id": "64980512",
   "metadata": {},
   "outputs": [],
   "source": [
    "import random\n",
    "\n",
    "def make_decision(options):\n",
    "    return random.choice(options)\n",
    "\n",
    "print(\"Chatbot: I can help you make decisions. Type 'exit' to end.\")\n",
    "while True:\n",
    "    user_input = input(\"You: \")\n",
    "    if user_input.lower() == \"exit\":\n",
    "        print(\"Chatbot: Goodbye!\")\n",
    "        break\n",
    "    options = re.findall(r'\\w+', user_input)\n",
    "    response = make_decision(options)\n",
    "    print(f\"Chatbot: I suggest you choose '{response}'.\")\n"
   ]
  },
  {
   "cell_type": "markdown",
   "id": "ec46ce7c",
   "metadata": {},
   "source": [
    "# Language Translation Chatbot"
   ]
  },
  {
   "cell_type": "code",
   "execution_count": null,
   "id": "791744c5",
   "metadata": {},
   "outputs": [],
   "source": [
    "pip install googletrans==4.0.0-rc1"
   ]
  },
  {
   "cell_type": "code",
   "execution_count": null,
   "id": "4bd6dcfe",
   "metadata": {},
   "outputs": [],
   "source": [
    "from googletrans import Translator\n",
    "\n",
    "def translate_text(text, target_language='en'):\n",
    "    translator = Translator()\n",
    "    translated_text = translator.translate(text, dest=target_language)\n",
    "    return translated_text.text\n",
    "\n",
    "print(\"Chatbot: I can translate text. Type 'exit' to end.\")\n",
    "while True:\n",
    "    user_input = input(\"You (Enter text to translate or 'exit'): \")\n",
    "    if user_input.lower() == \"exit\":\n",
    "        print(\"Chatbot: Goodbye!\")\n",
    "        break\n",
    "    target_language = input(\"Enter target language (e.g., 'fr' for French): \")\n",
    "    translation = translate_text(user_input, target_language)\n",
    "    print(f\"Chatbot: Translation: {translation}\")\n"
   ]
  },
  {
   "cell_type": "markdown",
   "id": "f30a5ee7",
   "metadata": {},
   "source": [
    "# Weather Information Chatbot"
   ]
  },
  {
   "cell_type": "code",
   "execution_count": null,
   "id": "7911baf0",
   "metadata": {},
   "outputs": [],
   "source": [
    "import requests\n",
    "\n",
    "def get_weather(city):\n",
    "    api_key = \"YOUR_API_KEY\"  # Replace with your API key\n",
    "    base_url = \"https://api.openweathermap.org/data/2.5/weather\"\n",
    "    params = {\"q\": city, \"appid\": api_key, \"units\": \"metric\"}\n",
    "    response = requests.get(base_url, params=params)\n",
    "    data = response.json()\n",
    "    if data[\"cod\"] == 200:\n",
    "        weather_description = data[\"weather\"][0][\"description\"]\n",
    "        temperature = data[\"main\"][\"temp\"]\n",
    "        return f\"The weather in {city} is {weather_description} with a temperature of {temperature}°C.\"\n",
    "    else:\n",
    "        return \"Sorry, I couldn't retrieve the weather information.\"\n",
    "\n",
    "print(\"Chatbot: I can provide weather information. Type 'exit' to end.\")\n",
    "while True:\n",
    "    user_input = input(\"You (Enter city name): \")\n",
    "    if user_input.lower() == \"exit\":\n",
    "        print(\"Chatbot: Goodbye!\")\n",
    "        break\n",
    "    weather_info = get_weather(user_input)\n",
    "    print(\"Chatbot:\", weather_info)\n"
   ]
  },
  {
   "cell_type": "markdown",
   "id": "486f074a",
   "metadata": {},
   "source": [
    "# Joke Generator Chatbot"
   ]
  },
  {
   "cell_type": "code",
   "execution_count": null,
   "id": "b0c14db7",
   "metadata": {},
   "outputs": [],
   "source": [
    "import random\n",
    "\n",
    "jokes = [\n",
    "    \"Why don't scientists trust atoms? Because they make up everything!\",\n",
    "    \"Did you hear about the mathematician who's afraid of negative numbers? He'll stop at nothing to avoid them.\",\n",
    "    \"Parallel lines have so much in common. It's a shame they'll never meet.\",\n",
    "]\n",
    "\n",
    "def tell_joke():\n",
    "    return random.choice(jokes)\n",
    "\n",
    "print(\"Chatbot: I can tell you a joke. Type 'exit' to end.\")\n",
    "while True:\n",
    "    user_input = input(\"You: \")\n",
    "    if user_input.lower() == \"exit\":\n",
    "        print(\"Chatbot: Goodbye!\")\n",
    "        break\n",
    "    if \"joke\" in user_input.lower():\n",
    "        joke = tell_joke()\n",
    "        print(\"Chatbot:\", joke)\n",
    "    else:\n",
    "        print(\"Chatbot: I'm here to tell jokes. Just ask for one!\")\n"
   ]
  },
  {
   "cell_type": "code",
   "execution_count": null,
   "id": "3176f68b",
   "metadata": {},
   "outputs": [],
   "source": []
  }
 ],
 "metadata": {
  "kernelspec": {
   "display_name": "Python 3 (ipykernel)",
   "language": "python",
   "name": "python3"
  },
  "language_info": {
   "codemirror_mode": {
    "name": "ipython",
    "version": 3
   },
   "file_extension": ".py",
   "mimetype": "text/x-python",
   "name": "python",
   "nbconvert_exporter": "python",
   "pygments_lexer": "ipython3",
   "version": "3.11.3"
  }
 },
 "nbformat": 4,
 "nbformat_minor": 5
}
